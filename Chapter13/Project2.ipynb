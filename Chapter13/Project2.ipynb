{
 "cells": [
  {
   "cell_type": "code",
   "execution_count": 24,
   "metadata": {},
   "outputs": [],
   "source": [
    "import torchvision\n",
    "import torchvision.transforms as transform\n",
    "import torch\n",
    "from torch.utils.data import TensorDataset, DataLoader\n",
    "import torch.nn as nn\n",
    "\n",
    "device = torch.device(\"cuda\" if torch.cuda.is_available() else \"cpu\")"
   ]
  },
  {
   "cell_type": "code",
   "execution_count": 25,
   "metadata": {},
   "outputs": [],
   "source": [
    "image_path = './MNIST/'\n",
    "transform = transform.Compose([\n",
    "    transform.ToTensor()\n",
    "])"
   ]
  },
  {
   "cell_type": "code",
   "execution_count": 26,
   "metadata": {},
   "outputs": [],
   "source": [
    "mnist_train_ds = torchvision.datasets.MNIST(\n",
    "    image_path, train=True, transform=transform,  download=True\n",
    ")\n",
    "\n",
    "mnist_test_ds = torchvision.datasets.MNIST(\n",
    "    image_path, train=False, transform=transform,  download=True\n",
    ")"
   ]
  },
  {
   "cell_type": "code",
   "execution_count": 27,
   "metadata": {},
   "outputs": [],
   "source": [
    "batch_size = 64\n",
    "torch.manual_seed(1)\n",
    "train_dl = DataLoader(mnist_train_ds, \n",
    "                      batch_size=batch_size, shuffle=True)"
   ]
  },
  {
   "cell_type": "code",
   "execution_count": 28,
   "metadata": {},
   "outputs": [
    {
     "data": {
      "text/plain": [
       "Model(\n",
       "  (fl): Flatten(start_dim=1, end_dim=-1)\n",
       "  (l1): Linear(in_features=784, out_features=32, bias=True)\n",
       "  (a1): ReLU()\n",
       "  (l2): Linear(in_features=32, out_features=16, bias=True)\n",
       "  (a2): ReLU()\n",
       "  (l3): Linear(in_features=16, out_features=10, bias=True)\n",
       "  (a3): Softmax(dim=None)\n",
       ")"
      ]
     },
     "execution_count": 28,
     "metadata": {},
     "output_type": "execute_result"
    }
   ],
   "source": [
    "image_size = mnist_train_ds[0][0].shape\n",
    "input_size = image_size[2]*image_size[1]*image_size[0]\n",
    "output_shape = 10\n",
    "\n",
    "import torch.nn as nn\n",
    "class Model(nn.Module):\n",
    "    def __init__(self):\n",
    "        super().__init__()\n",
    "        self.fl = nn.Flatten()\n",
    "        self.l1 = nn.Linear(input_size, 32)\n",
    "        self.a1 = nn.ReLU()\n",
    "        self.l2 = nn.Linear(32, 16)\n",
    "        self.a2 = nn.ReLU()\n",
    "        self.l3 = nn.Linear(16, 10)\n",
    "        self.a3 = nn.Softmax()\n",
    "    def forward(self, x):\n",
    "        x = self.fl(x)\n",
    "        x = self.l1(x)\n",
    "        x = self.a1(x)\n",
    "        x = self.l2(x)\n",
    "        x = self.a2(x)\n",
    "        x = self.l3(x)\n",
    "        x = self.a3(x)\n",
    "\n",
    "        return x\n",
    "    \n",
    "model = Model().to(device)\n",
    "model"
   ]
  },
  {
   "cell_type": "code",
   "execution_count": 29,
   "metadata": {},
   "outputs": [],
   "source": [
    "loss_fn = nn.CrossEntropyLoss()\n",
    "optimizer = torch.optim.Adam(model.parameters(), lr= 0.001)"
   ]
  },
  {
   "cell_type": "code",
   "execution_count": 30,
   "metadata": {},
   "outputs": [
    {
     "name": "stdout",
     "output_type": "stream",
     "text": [
      "Epoch 0 Acc : 0.811650\n",
      "Epoch 1 Acc : 0.917483\n",
      "Epoch 2 Acc : 0.929900\n",
      "Epoch 3 Acc : 0.936783\n",
      "Epoch 4 Acc : 0.941067\n",
      "Epoch 5 Acc : 0.945867\n",
      "Epoch 6 Acc : 0.948633\n",
      "Epoch 7 Acc : 0.950967\n",
      "Epoch 8 Acc : 0.953967\n",
      "Epoch 9 Acc : 0.955983\n",
      "Epoch 10 Acc : 0.957983\n",
      "Epoch 11 Acc : 0.959350\n",
      "Epoch 12 Acc : 0.961967\n",
      "Epoch 13 Acc : 0.962500\n",
      "Epoch 14 Acc : 0.964450\n",
      "Epoch 15 Acc : 0.965283\n",
      "Epoch 16 Acc : 0.965867\n",
      "Epoch 17 Acc : 0.966767\n",
      "Epoch 18 Acc : 0.967267\n",
      "Epoch 19 Acc : 0.968117\n"
     ]
    }
   ],
   "source": [
    "num_epochs = 20\n",
    "log_epochs = 1\n",
    "\n",
    "acc_hist = [0]*num_epochs\n",
    "\n",
    "for epoch in range(num_epochs):\n",
    "    for x_batch, y_batch in train_dl:\n",
    "        pred = model(x_batch.to(device))\n",
    "        loss = loss_fn(pred, y_batch.to(device))\n",
    "        loss.backward()\n",
    "        optimizer.step()\n",
    "        optimizer.zero_grad()\n",
    "\n",
    "        is_correct = (torch.argmax(pred, dim=1) == y_batch.to(device)).float()\n",
    "        acc_hist[epoch] += is_correct.sum().item()\n",
    "\n",
    "    acc_hist[epoch] /= len(train_dl.dataset)\n",
    "    if epoch % log_epochs == 0 :\n",
    "        print(f'Epoch {epoch} Acc : {acc_hist[epoch]:4f}')"
   ]
  },
  {
   "cell_type": "code",
   "execution_count": 31,
   "metadata": {},
   "outputs": [
    {
     "name": "stdout",
     "output_type": "stream",
     "text": [
      "Test accuracy: 0.9549\n"
     ]
    }
   ],
   "source": [
    "with torch.no_grad():\n",
    "    pred = model(mnist_test_ds.data.to(device) / 255.)\n",
    "    is_correct = (\n",
    "    torch.argmax(pred, dim=1) ==\n",
    "    mnist_test_ds.targets.to(device)).float()\n",
    "    print(f'Test accuracy: {is_correct.mean().item():.4f}')"
   ]
  }
 ],
 "metadata": {
  "kernelspec": {
   "display_name": "env",
   "language": "python",
   "name": "python3"
  },
  "language_info": {
   "codemirror_mode": {
    "name": "ipython",
    "version": 3
   },
   "file_extension": ".py",
   "mimetype": "text/x-python",
   "name": "python",
   "nbconvert_exporter": "python",
   "pygments_lexer": "ipython3",
   "version": "3.10.12"
  }
 },
 "nbformat": 4,
 "nbformat_minor": 2
}
