{
 "cells": [
  {
   "cell_type": "code",
   "execution_count": 24,
   "metadata": {},
   "outputs": [],
   "source": [
    "import pytorch_lightning as pl\n",
    "import torch \n",
    "import torch.nn as nn\n",
    "\n",
    "from torchmetrics import Accuracy\n",
    "\n",
    "torch.set_float32_matmul_precision('medium')\n"
   ]
  },
  {
   "cell_type": "code",
   "execution_count": 25,
   "metadata": {},
   "outputs": [],
   "source": [
    "from pytorch_lightning.utilities.types import TRAIN_DATALOADERS\n",
    "from torch.utils.data import DataLoader\n",
    "from torch.utils.data import random_split\n",
    "from torchvision.datasets import MNIST\n",
    "from torchvision import transforms\n",
    "\n",
    "\n",
    "class MnistDataModule(pl.LightningDataModule):\n",
    "    def __init__(self, data_path='./MNIST/') -> None:\n",
    "        super().__init__()\n",
    "        self.data_path = data_path\n",
    "        self.transform = transforms.Compose([\n",
    "            transforms.ToTensor()\n",
    "        ])\n",
    "\n",
    "    def prepare_data(self):\n",
    "        MNIST(self.data_path, download=True)\n",
    "\n",
    "    def setup(self, stage: str):\n",
    "\n",
    "        mnist_all = MNIST(\n",
    "            root=self.data_path,\n",
    "            train=True,\n",
    "            transform=self.transform,\n",
    "            download=False\n",
    "        )\n",
    "\n",
    "        self.train, self.val = random_split(\n",
    "            mnist_all, [55000, 5000], \n",
    "            generator=torch.Generator().manual_seed(1)\n",
    "        )\n",
    "\n",
    "        self.test = MNIST(\n",
    "            root=self.data_path,\n",
    "            train=False,\n",
    "            transform=self.transform,\n",
    "            download=False\n",
    "        )\n",
    "    \n",
    "    def train_dataloader(self):\n",
    "        return DataLoader(self.train, batch_size=64, num_workers=4)\n",
    "    \n",
    "    def val_dataloader(self):\n",
    "        return DataLoader(self.val, batch_size=64, num_workers=4)\n",
    "    \n",
    "    def test_dataloader(self):\n",
    "        return DataLoader(self.test, batch_size=64, num_workers=4)\n"
   ]
  },
  {
   "cell_type": "code",
   "execution_count": 26,
   "metadata": {},
   "outputs": [],
   "source": [
    "from typing import Any\n",
    "\n",
    "\n",
    "class MultiLayerPerceptron(pl.LightningModule):\n",
    "    def __init__(self, \n",
    "                 image_shape=(1, 28, 28), hidden_units=(32, 16)):\n",
    "        super().__init__()\n",
    "\n",
    "        self.train_acc = Accuracy(task=\"multiclass\", num_classes=10)\n",
    "        self.valid_acc   = Accuracy(task=\"multiclass\", num_classes=10)\n",
    "        self.test_acc  = Accuracy(task=\"multiclass\", num_classes=10)\n",
    "\n",
    "        input_size = image_shape[0] * image_shape[1] * image_shape[2]\n",
    "        self.fl = nn.Flatten()\n",
    "        self.l1 = nn.Linear(input_size, 32)\n",
    "        self.a1 = nn.ReLU()\n",
    "        self.l2 = nn.Linear(32, 16)\n",
    "        self.a2 = nn.ReLU()\n",
    "        self.l3 = nn.Linear(16, 10)\n",
    "        self.a3 = nn.Softmax()\n",
    "\n",
    "    def forward(self, x):\n",
    "        x = self.fl(x)\n",
    "        x = self.l1(x)\n",
    "        x = self.a1(x)\n",
    "        x = self.l2(x)\n",
    "        x = self.a2(x)\n",
    "        x = self.l3(x)\n",
    "        x = self.a3(x)\n",
    "        return x\n",
    "    \n",
    "    def training_step(self, batch, batch_idx):\n",
    "        x, y = batch\n",
    "        logits = self(x)\n",
    "        loss = nn.functional.cross_entropy(self(x), y)\n",
    "        preds = torch.argmax(logits, dim=1)\n",
    "        self.train_acc.update(preds, y)\n",
    "        self.log(\"train loss: \",loss, prog_bar=True)\n",
    "        return loss\n",
    "    \n",
    "    def on_train_epoch_end(self):\n",
    "        self.log(\"train acc :\", self.train_acc.compute())\n",
    "\n",
    "    def validation_step(self, batch, batch_idx):\n",
    "        x, y = batch\n",
    "        logits = self(x)\n",
    "        loss = nn.functional.cross_entropy(self(x), y)\n",
    "        preds = torch.argmax(logits, dim=1)\n",
    "        self.valid_acc.update(preds, y)\n",
    "        self.log(\"valid_loss\", loss, prog_bar=True)\n",
    "        self.log(\"valid_acc\", self.valid_acc.compute(), prog_bar=True)\n",
    "        return loss\n",
    "\n",
    "    def test_step(self, batch, batch_idx):\n",
    "        x, y = batch\n",
    "        logits = self(x)\n",
    "        loss = nn.functional.cross_entropy(self(x), y)\n",
    "        preds = torch.argmax(logits, dim=1)\n",
    "        self.test_acc.update(preds, y)\n",
    "        self.log(\"test_loss\", loss, prog_bar=True)\n",
    "        self.log(\"test_acc\", self.test_acc.compute(), prog_bar=True)\n",
    "        return loss\n",
    "\n",
    "    def configure_optimizers(self):\n",
    "        optimizer = torch.optim.Adam(self.parameters(), lr = 0.001)\n",
    "        return optimizer\n",
    "\n",
    "\n",
    "\n",
    "        "
   ]
  },
  {
   "cell_type": "code",
   "execution_count": 33,
   "metadata": {},
   "outputs": [
    {
     "name": "stderr",
     "output_type": "stream",
     "text": [
      "GPU available: True (cuda), used: True\n",
      "TPU available: False, using: 0 TPU cores\n",
      "IPU available: False, using: 0 IPUs\n",
      "HPU available: False, using: 0 HPUs\n",
      "Restoring states from the checkpoint path at /home/tej/Documents/Courses/Learning/ML_With_PyTorch_Scikit_Practice/Chapter13/lightning_logs/version_0/checkpoints/epoch=49-step=43000.ckpt\n",
      "LOCAL_RANK: 0 - CUDA_VISIBLE_DEVICES: [0]\n",
      "\n",
      "  | Name      | Type               | Params\n",
      "-------------------------------------------------\n",
      "0 | train_acc | MulticlassAccuracy | 0     \n",
      "1 | valid_acc | MulticlassAccuracy | 0     \n",
      "2 | test_acc  | MulticlassAccuracy | 0     \n",
      "3 | fl        | Flatten            | 0     \n",
      "4 | l1        | Linear             | 25.1 K\n",
      "5 | a1        | ReLU               | 0     \n",
      "6 | l2        | Linear             | 528   \n",
      "7 | a2        | ReLU               | 0     \n",
      "8 | l3        | Linear             | 170   \n",
      "9 | a3        | Softmax            | 0     \n",
      "-------------------------------------------------\n",
      "25.8 K    Trainable params\n",
      "0         Non-trainable params\n",
      "25.8 K    Total params\n",
      "0.103     Total estimated model params size (MB)\n",
      "Restored all states from the checkpoint at /home/tej/Documents/Courses/Learning/ML_With_PyTorch_Scikit_Practice/Chapter13/lightning_logs/version_0/checkpoints/epoch=49-step=43000.ckpt\n"
     ]
    },
    {
     "name": "stdout",
     "output_type": "stream",
     "text": [
      "Epoch 99: 100%|██████████| 860/860 [00:02<00:00, 315.26it/s, v_num=1, train loss: =1.500, valid_loss=1.500, valid_acc=0.959]"
     ]
    },
    {
     "name": "stderr",
     "output_type": "stream",
     "text": [
      "`Trainer.fit` stopped: `max_epochs=100` reached.\n"
     ]
    },
    {
     "name": "stdout",
     "output_type": "stream",
     "text": [
      "Epoch 99: 100%|██████████| 860/860 [00:02<00:00, 314.73it/s, v_num=1, train loss: =1.500, valid_loss=1.500, valid_acc=0.959]\n"
     ]
    }
   ],
   "source": [
    "torch.manual_seed(1)\n",
    "mnist_dm = MnistDataModule()\n",
    "mnistClassifier = MultiLayerPerceptron()\n",
    "\n",
    "# trainer = pl.Trainer(max_epochs=10, accelerator=\"auto\")\n",
    "\n",
    "trainer = pl.Trainer(max_epochs=100, accelerator=\"auto\", enable_checkpointing=True)\n",
    "\n",
    "trainer.fit(model=mnistClassifier, datamodule=mnist_dm\n",
    "            ,ckpt_path='/home/tej/Documents/Courses/Learning/ML_With_PyTorch_Scikit_Practice/Chapter13/lightning_logs/version_0/checkpoints/epoch=49-step=43000.ckpt')"
   ]
  },
  {
   "cell_type": "code",
   "execution_count": null,
   "metadata": {},
   "outputs": [
    {
     "data": {
      "text/html": [
       "\n",
       "      <iframe id=\"tensorboard-frame-2b65ff68097060e2\" width=\"100%\" height=\"800\" frameborder=\"0\">\n",
       "      </iframe>\n",
       "      <script>\n",
       "        (function() {\n",
       "          const frame = document.getElementById(\"tensorboard-frame-2b65ff68097060e2\");\n",
       "          const url = new URL(\"/\", window.location);\n",
       "          const port = 6006;\n",
       "          if (port) {\n",
       "            url.port = port;\n",
       "          }\n",
       "          frame.src = url;\n",
       "        })();\n",
       "      </script>\n",
       "    "
      ],
      "text/plain": [
       "<IPython.core.display.HTML object>"
      ]
     },
     "metadata": {},
     "output_type": "display_data"
    }
   ],
   "source": [
    "# %load_ext tensorboard\n",
    "# %tensorboard --logdir ./Chapter13/lightning_logs/"
   ]
  },
  {
   "cell_type": "code",
   "execution_count": null,
   "metadata": {},
   "outputs": [],
   "source": []
  }
 ],
 "metadata": {
  "kernelspec": {
   "display_name": "env",
   "language": "python",
   "name": "python3"
  },
  "language_info": {
   "codemirror_mode": {
    "name": "ipython",
    "version": 3
   },
   "file_extension": ".py",
   "mimetype": "text/x-python",
   "name": "python",
   "nbconvert_exporter": "python",
   "pygments_lexer": "ipython3",
   "version": "3.10.12"
  }
 },
 "nbformat": 4,
 "nbformat_minor": 2
}
