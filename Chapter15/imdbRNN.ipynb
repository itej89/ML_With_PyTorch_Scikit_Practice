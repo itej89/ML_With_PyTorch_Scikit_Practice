{
 "cells": [
  {
   "cell_type": "code",
   "execution_count": 1,
   "metadata": {},
   "outputs": [
    {
     "name": "stderr",
     "output_type": "stream",
     "text": [
      "/media/tej/fmSpin/Courses/Learning/ML_With_PyTorch_Scikit_Practice/env/lib/python3.10/site-packages/tqdm/auto.py:21: TqdmWarning: IProgress not found. Please update jupyter and ipywidgets. See https://ipywidgets.readthedocs.io/en/stable/user_install.html\n",
      "  from .autonotebook import tqdm as notebook_tqdm\n"
     ]
    }
   ],
   "source": [
    "import pytorch_lightning as pl\n",
    "import torch \n",
    "import torch.nn as nn\n",
    "\n",
    "from torchmetrics import Accuracy\n",
    "\n",
    "torch.set_float32_matmul_precision('medium')\n"
   ]
  },
  {
   "cell_type": "code",
   "execution_count": 2,
   "metadata": {},
   "outputs": [],
   "source": [
    "from pytorch_lightning.utilities.types import TRAIN_DATALOADERS\n",
    "from torch.utils.data import DataLoader\n",
    "from torch.utils.data import random_split\n",
    "from torchtext.datasets import IMDB\n",
    "\n",
    "import re\n",
    "from collections import Counter, OrderedDict\n",
    "\n",
    "class IMDBDataModule(pl.LightningDataModule):\n",
    "    def __init__(self, data_path='./IMDB/') -> None:\n",
    "        super().__init__()\n",
    "        self.data_path = data_path\n",
    "\n",
    "    def tokenizer(self, text):\n",
    "        text = re.sub('<[^>]*>', '', text)\n",
    "        emoticons = re.findall(\n",
    "        '(?::|;|=)(?:-)?(?:\\)|\\(|D|P)', text.lower()\n",
    "        )\n",
    "\n",
    "        text = re.sub('[\\W]+', ' ', text.lower()) +\\\n",
    "        ' '.join(emoticons).replace('-', '')\n",
    "        tokenized = text.split()\n",
    "\n",
    "        return tokenized\n",
    "    \n",
    "\n",
    "    def collate_batch(self, batch):\n",
    "        label_list, text_list, lengths = [], [], []\n",
    "        for _label, _text in batch:\n",
    "            label_list.append(self.label_pipeline(_label))\n",
    "            processed_text = torch.tensor(self.text_pipeline(_text),\n",
    "            dtype=torch.int64)\n",
    "            text_list.append(processed_text)\n",
    "            lengths.append(processed_text.size(0))\n",
    "\n",
    "        label_list = torch.tensor(label_list)\n",
    "        lengths = torch.tensor(lengths)\n",
    "        padded_text_list = nn.utils.rnn.pad_sequence(\n",
    "        text_list, batch_first=True)\n",
    "        return padded_text_list, label_list, lengths\n",
    "\n",
    "    def prepare_data(self):\n",
    "        pass\n",
    "\n",
    "    def setup(self, stage: str):\n",
    "        ## Step 1: create the datasets\n",
    "        train_dataset = IMDB(split='train')\n",
    "\n",
    "        self.train, self.val = random_split(\n",
    "            list(train_dataset), [20000, 5000], \n",
    "            generator=torch.Generator().manual_seed(1)\n",
    "        )\n",
    "\n",
    "        self.test = IMDB(split='test')\n",
    "\n",
    "\n",
    "        ## Step 2: find unique tokens (words)\n",
    "        token_counts = Counter()\n",
    "        for label, line in train_dataset:\n",
    "            tokens = self.tokenizer(line)\n",
    "            token_counts.update(tokens)\n",
    "\n",
    "\n",
    "        ## Step 3: encoding each unique token into integers\n",
    "        from torchtext.vocab import vocab\n",
    "        sorted_by_freq_tuples = sorted(\n",
    "        token_counts.items(), key=lambda x: x[1], reverse=True)\n",
    "        ordered_dict = OrderedDict(sorted_by_freq_tuples)\n",
    "        self.vocab = vocab(ordered_dict)\n",
    "        self.vocab.insert_token(\"<pad>\", 0)\n",
    "        self.vocab.insert_token(\"<unk>\", 1)\n",
    "        self.vocab.set_default_index(1)\n",
    "        self.vocab_size = len(self.vocab)\n",
    "\n",
    "\n",
    "        ## Step 3-A: define the functions for transformation\n",
    "        self.text_pipeline = \\\n",
    "            lambda x: [self.vocab[token] for token in self.tokenizer(x)]\n",
    "        self.label_pipeline = lambda x: 1. if x == 1 else 0.\n",
    "    \n",
    "\n",
    "\n",
    "    def train_dataloader(self):\n",
    "        return DataLoader(self.train, batch_size=32, shuffle=False, collate_fn=self.collate_batch, num_workers=31)\n",
    "    \n",
    "    def val_dataloader(self):\n",
    "        return DataLoader(self.val, batch_size=32, shuffle=False, collate_fn=self.collate_batch, num_workers=31)\n",
    "    \n",
    "    def test_dataloader(self):\n",
    "        return DataLoader(self.test, batch_size=32, shuffle=False, collate_fn=self.collate_batch, num_workers=31)\n"
   ]
  },
  {
   "cell_type": "code",
   "execution_count": 3,
   "metadata": {},
   "outputs": [],
   "source": [
    "from typing import Any\n",
    "\n",
    "\n",
    "class RNNNetwork(pl.LightningModule):\n",
    "    def __init__(self, vocab_size, embed_dim, rnn_hidden_size,\n",
    "                fc_hidden_size):\n",
    "        super().__init__()\n",
    "\n",
    "        self.train_acc = Accuracy(task=\"binary\")\n",
    "        self.valid_acc   = Accuracy(task=\"binary\")\n",
    "        self.test_acc  = Accuracy(task=\"binary\")\n",
    "\n",
    "\n",
    "        self.embedding = nn.Embedding(vocab_size,\n",
    "                                      embedding_dim=embed_dim,\n",
    "                                      padding_idx=0)\n",
    "        self.rnn = nn.LSTM(embed_dim, rnn_hidden_size,\n",
    "                           batch_first=True)\n",
    "        self.fc1 = nn.Linear(rnn_hidden_size, fc_hidden_size)\n",
    "        self.relu = nn.ReLU()\n",
    "        self.fc2 = nn.Linear(fc_hidden_size, 1)\n",
    "        self.sigmoid = nn.Sigmoid()\n",
    "\n",
    "        \n",
    "\n",
    "    def forward(self, text, lengths):\n",
    "        out = self.embedding(text)\n",
    "        out = nn.utils.rnn.pack_padded_sequence(\n",
    "                 out, lengths.cpu().numpy(), enforce_sorted=False, batch_first=True\n",
    "                )\n",
    "        out, (hidden, cell) = self.rnn(out)\n",
    "        out = hidden[-1, :, :]\n",
    "        out = self.fc1(out)\n",
    "        out = self.relu(out)\n",
    "        out = self.fc2(out)\n",
    "        out = self.sigmoid(out)\n",
    "        return out\n",
    "    \n",
    "    def training_step(self, batch, batch_idx):\n",
    "        text_batch, label_batch, lengths = batch\n",
    "        pred = self(text_batch, lengths)[:, 0]\n",
    "        loss = nn.functional.binary_cross_entropy(pred, label_batch)\n",
    "        self.log(\"train loss: \",loss, prog_bar=True)\n",
    "        \n",
    "        pred = (pred >= 0.5).float()\n",
    "        self.train_acc.update(pred, label_batch)\n",
    "        return loss\n",
    "    \n",
    "    def on_train_epoch_end(self):\n",
    "        self.log(\"train acc :\", self.train_acc.compute())\n",
    "\n",
    "    def validation_step(self, batch, batch_idx):\n",
    "        text_batch, label_batch, lengths = batch\n",
    "        pred = self(text_batch, lengths)[:, 0]\n",
    "        loss = nn.functional.binary_cross_entropy(pred, label_batch)\n",
    "\n",
    "        pred = (pred >= 0.5).float()\n",
    "        self.valid_acc.update(pred, label_batch)\n",
    "        self.log(\"valid_loss\", loss, prog_bar=True)\n",
    "        self.log(\"valid_acc\", self.valid_acc.compute(), prog_bar=True)\n",
    "        return loss\n",
    "\n",
    "    def test_step(self, batch, batch_idx):\n",
    "        text_batch, label_batch, lengths = batch\n",
    "        pred = self(text_batch, lengths)[:, 0]\n",
    "        loss = nn.functional.binary_cross_entropy(pred, label_batch)\n",
    "\n",
    "        pred = (pred >= 0.5).float()\n",
    "        self.test_acc.update(pred, label_batch)\n",
    "        self.log(\"test_loss\", loss, prog_bar=True)\n",
    "        self.log(\"test_acc\", self.test_acc.compute(), prog_bar=True)\n",
    "        return loss\n",
    "\n",
    "    def configure_optimizers(self):\n",
    "        optimizer = torch.optim.Adam(self.parameters(), lr = 0.001)\n",
    "        return optimizer\n",
    "\n",
    "\n",
    "\n",
    "        "
   ]
  },
  {
   "cell_type": "code",
   "execution_count": 4,
   "metadata": {},
   "outputs": [
    {
     "name": "stderr",
     "output_type": "stream",
     "text": [
      "GPU available: True (cuda), used: True\n",
      "TPU available: False, using: 0 TPU cores\n",
      "IPU available: False, using: 0 IPUs\n",
      "HPU available: False, using: 0 HPUs\n",
      "Missing logger folder: /media/tej/fmSpin/Courses/Learning/ML_With_PyTorch_Scikit_Practice/Chapter15/lightning_logs\n",
      "LOCAL_RANK: 0 - CUDA_VISIBLE_DEVICES: [0]\n",
      "\n",
      "  | Name      | Type           | Params\n",
      "---------------------------------------------\n",
      "0 | train_acc | BinaryAccuracy | 0     \n",
      "1 | valid_acc | BinaryAccuracy | 0     \n",
      "2 | test_acc  | BinaryAccuracy | 0     \n",
      "3 | embedding | Embedding      | 1.5 M \n",
      "4 | rnn       | LSTM           | 22.0 K\n",
      "5 | fc1       | Linear         | 4.2 K \n",
      "6 | relu      | ReLU           | 0     \n",
      "7 | fc2       | Linear         | 65    \n",
      "8 | sigmoid   | Sigmoid        | 0     \n",
      "---------------------------------------------\n",
      "1.5 M     Trainable params\n",
      "0         Non-trainable params\n",
      "1.5 M     Total params\n",
      "6.183     Total estimated model params size (MB)\n"
     ]
    },
    {
     "name": "stdout",
     "output_type": "stream",
     "text": [
      "Epoch 19: 100%|██████████| 625/625 [00:14<00:00, 43.85it/s, v_num=0, train loss: =0.0106, valid_loss=0.697, valid_acc=0.832]  "
     ]
    },
    {
     "name": "stderr",
     "output_type": "stream",
     "text": [
      "`Trainer.fit` stopped: `max_epochs=20` reached.\n"
     ]
    },
    {
     "name": "stdout",
     "output_type": "stream",
     "text": [
      "Epoch 19: 100%|██████████| 625/625 [00:14<00:00, 43.71it/s, v_num=0, train loss: =0.0106, valid_loss=0.697, valid_acc=0.832]\n"
     ]
    }
   ],
   "source": [
    "torch.manual_seed(1)\n",
    "embed_dim = 20\n",
    "rnn_hidden_size = 64\n",
    "fc_hidden_size = 64\n",
    "torch.manual_seed(1)\n",
    "imdb_dm = IMDBDataModule()\n",
    "imdb_dm.setup(\"train\")\n",
    "imdbClassifier = RNNNetwork(imdb_dm.vocab_size, embed_dim,\n",
    "rnn_hidden_size, fc_hidden_size)\n",
    "\n",
    "trainer = pl.Trainer(max_epochs=20, accelerator=\"auto\", enable_checkpointing=True)\n",
    "\n",
    "trainer.fit(model=imdbClassifier, datamodule=imdb_dm)\n",
    "            # ,ckpt_path='/home/tej/Documents/Courses/Learning/ML_With_PyTorch_Scikit_Practice/Chapter13/lightning_logs/version_0/checkpoints/epoch=49-step=43000.ckpt')"
   ]
  },
  {
   "cell_type": "code",
   "execution_count": 5,
   "metadata": {},
   "outputs": [],
   "source": [
    "# %load_ext tensorboard\n",
    "# %tensorboard --logdir ./Chapter13/lightning_logs/"
   ]
  },
  {
   "cell_type": "code",
   "execution_count": 6,
   "metadata": {},
   "outputs": [],
   "source": [
    "# filepath = \"./Chapter15/Deployment/model.onnx\"\n",
    "# input_sample = torch.tensor([[[1, 2, 3, 4]], [4]])\n",
    "# imdbClassifier.to_onnx(filepath, input_sample, export_params=True)"
   ]
  },
  {
   "cell_type": "code",
   "execution_count": 7,
   "metadata": {},
   "outputs": [
    {
     "data": {
      "text/plain": [
       "RNNNetwork(\n",
       "  (train_acc): BinaryAccuracy()\n",
       "  (valid_acc): BinaryAccuracy()\n",
       "  (test_acc): BinaryAccuracy()\n",
       "  (embedding): Embedding(75979, 20, padding_idx=0)\n",
       "  (rnn): LSTM(20, 64, batch_first=True)\n",
       "  (fc1): Linear(in_features=64, out_features=64, bias=True)\n",
       "  (relu): ReLU()\n",
       "  (fc2): Linear(in_features=64, out_features=1, bias=True)\n",
       "  (sigmoid): Sigmoid()\n",
       ")"
      ]
     },
     "execution_count": 7,
     "metadata": {},
     "output_type": "execute_result"
    }
   ],
   "source": [
    "imdbClassifier"
   ]
  }
 ],
 "metadata": {
  "kernelspec": {
   "display_name": "env",
   "language": "python",
   "name": "python3"
  },
  "language_info": {
   "codemirror_mode": {
    "name": "ipython",
    "version": 3
   },
   "file_extension": ".py",
   "mimetype": "text/x-python",
   "name": "python",
   "nbconvert_exporter": "python",
   "pygments_lexer": "ipython3",
   "version": "3.10.12"
  }
 },
 "nbformat": 4,
 "nbformat_minor": 2
}
